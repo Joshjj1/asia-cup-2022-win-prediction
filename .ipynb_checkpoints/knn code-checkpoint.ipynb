{
 "cells": [
  {
   "cell_type": "code",
   "execution_count": 1,
   "id": "a4814b2f",
   "metadata": {},
   "outputs": [],
   "source": [
    "import numpy as np \n",
    "import pandas as pd\n",
    "import matplotlib.pyplot as plt\n",
    "import seaborn as sns\n",
    "sns.set_style(\"darkgrid\")"
   ]
  },
  {
   "cell_type": "code",
   "execution_count": 2,
   "id": "a645206f",
   "metadata": {},
   "outputs": [
    {
     "data": {
      "text/html": [
       "<div>\n",
       "<style scoped>\n",
       "    .dataframe tbody tr th:only-of-type {\n",
       "        vertical-align: middle;\n",
       "    }\n",
       "\n",
       "    .dataframe tbody tr th {\n",
       "        vertical-align: top;\n",
       "    }\n",
       "\n",
       "    .dataframe thead th {\n",
       "        text-align: right;\n",
       "    }\n",
       "</style>\n",
       "<table border=\"1\" class=\"dataframe\">\n",
       "  <thead>\n",
       "    <tr style=\"text-align: right;\">\n",
       "      <th></th>\n",
       "      <th>Team = Pakistan</th>\n",
       "      <th>﻿Team = Sri Lanka</th>\n",
       "      <th>﻿Team = India</th>\n",
       "      <th>﻿Team = Bangladesh</th>\n",
       "      <th>﻿Team = Hong Kong</th>\n",
       "      <th>﻿Team = UAE</th>\n",
       "      <th>﻿Team = Afghanistan</th>\n",
       "      <th>Opponent = Sri Lanka</th>\n",
       "      <th>Opponent = Pakistan</th>\n",
       "      <th>Opponent = India</th>\n",
       "      <th>...</th>\n",
       "      <th>Ground = Lahore</th>\n",
       "      <th>Ground = Karachi</th>\n",
       "      <th>Ground = Mirpur</th>\n",
       "      <th>Ground = Fatullah</th>\n",
       "      <th>Ground = Dubai(DSC)</th>\n",
       "      <th>Ground = Abu Dhabi</th>\n",
       "      <th>Toss = Lose</th>\n",
       "      <th>Toss = Win</th>\n",
       "      <th>Toss = win</th>\n",
       "      <th>Result</th>\n",
       "    </tr>\n",
       "  </thead>\n",
       "  <tbody>\n",
       "    <tr>\n",
       "      <th>0</th>\n",
       "      <td>1</td>\n",
       "      <td>0</td>\n",
       "      <td>0</td>\n",
       "      <td>0</td>\n",
       "      <td>0</td>\n",
       "      <td>0</td>\n",
       "      <td>0</td>\n",
       "      <td>1</td>\n",
       "      <td>0</td>\n",
       "      <td>0</td>\n",
       "      <td>...</td>\n",
       "      <td>0</td>\n",
       "      <td>0</td>\n",
       "      <td>0</td>\n",
       "      <td>0</td>\n",
       "      <td>0</td>\n",
       "      <td>0</td>\n",
       "      <td>1</td>\n",
       "      <td>0</td>\n",
       "      <td>0</td>\n",
       "      <td>0</td>\n",
       "    </tr>\n",
       "    <tr>\n",
       "      <th>1</th>\n",
       "      <td>0</td>\n",
       "      <td>1</td>\n",
       "      <td>0</td>\n",
       "      <td>0</td>\n",
       "      <td>0</td>\n",
       "      <td>0</td>\n",
       "      <td>0</td>\n",
       "      <td>0</td>\n",
       "      <td>1</td>\n",
       "      <td>0</td>\n",
       "      <td>...</td>\n",
       "      <td>0</td>\n",
       "      <td>0</td>\n",
       "      <td>0</td>\n",
       "      <td>0</td>\n",
       "      <td>0</td>\n",
       "      <td>0</td>\n",
       "      <td>0</td>\n",
       "      <td>1</td>\n",
       "      <td>0</td>\n",
       "      <td>1</td>\n",
       "    </tr>\n",
       "    <tr>\n",
       "      <th>2</th>\n",
       "      <td>0</td>\n",
       "      <td>0</td>\n",
       "      <td>1</td>\n",
       "      <td>0</td>\n",
       "      <td>0</td>\n",
       "      <td>0</td>\n",
       "      <td>0</td>\n",
       "      <td>1</td>\n",
       "      <td>0</td>\n",
       "      <td>0</td>\n",
       "      <td>...</td>\n",
       "      <td>0</td>\n",
       "      <td>0</td>\n",
       "      <td>0</td>\n",
       "      <td>0</td>\n",
       "      <td>0</td>\n",
       "      <td>0</td>\n",
       "      <td>0</td>\n",
       "      <td>1</td>\n",
       "      <td>0</td>\n",
       "      <td>1</td>\n",
       "    </tr>\n",
       "    <tr>\n",
       "      <th>3</th>\n",
       "      <td>0</td>\n",
       "      <td>1</td>\n",
       "      <td>0</td>\n",
       "      <td>0</td>\n",
       "      <td>0</td>\n",
       "      <td>0</td>\n",
       "      <td>0</td>\n",
       "      <td>0</td>\n",
       "      <td>0</td>\n",
       "      <td>1</td>\n",
       "      <td>...</td>\n",
       "      <td>0</td>\n",
       "      <td>0</td>\n",
       "      <td>0</td>\n",
       "      <td>0</td>\n",
       "      <td>0</td>\n",
       "      <td>0</td>\n",
       "      <td>1</td>\n",
       "      <td>0</td>\n",
       "      <td>0</td>\n",
       "      <td>0</td>\n",
       "    </tr>\n",
       "    <tr>\n",
       "      <th>4</th>\n",
       "      <td>0</td>\n",
       "      <td>0</td>\n",
       "      <td>1</td>\n",
       "      <td>0</td>\n",
       "      <td>0</td>\n",
       "      <td>0</td>\n",
       "      <td>0</td>\n",
       "      <td>0</td>\n",
       "      <td>1</td>\n",
       "      <td>0</td>\n",
       "      <td>...</td>\n",
       "      <td>0</td>\n",
       "      <td>0</td>\n",
       "      <td>0</td>\n",
       "      <td>0</td>\n",
       "      <td>0</td>\n",
       "      <td>0</td>\n",
       "      <td>0</td>\n",
       "      <td>1</td>\n",
       "      <td>0</td>\n",
       "      <td>1</td>\n",
       "    </tr>\n",
       "    <tr>\n",
       "      <th>5</th>\n",
       "      <td>1</td>\n",
       "      <td>0</td>\n",
       "      <td>0</td>\n",
       "      <td>0</td>\n",
       "      <td>0</td>\n",
       "      <td>0</td>\n",
       "      <td>0</td>\n",
       "      <td>0</td>\n",
       "      <td>0</td>\n",
       "      <td>1</td>\n",
       "      <td>...</td>\n",
       "      <td>0</td>\n",
       "      <td>0</td>\n",
       "      <td>0</td>\n",
       "      <td>0</td>\n",
       "      <td>0</td>\n",
       "      <td>0</td>\n",
       "      <td>1</td>\n",
       "      <td>0</td>\n",
       "      <td>0</td>\n",
       "      <td>0</td>\n",
       "    </tr>\n",
       "    <tr>\n",
       "      <th>6</th>\n",
       "      <td>0</td>\n",
       "      <td>1</td>\n",
       "      <td>0</td>\n",
       "      <td>0</td>\n",
       "      <td>0</td>\n",
       "      <td>0</td>\n",
       "      <td>0</td>\n",
       "      <td>0</td>\n",
       "      <td>1</td>\n",
       "      <td>0</td>\n",
       "      <td>...</td>\n",
       "      <td>0</td>\n",
       "      <td>0</td>\n",
       "      <td>0</td>\n",
       "      <td>0</td>\n",
       "      <td>0</td>\n",
       "      <td>0</td>\n",
       "      <td>0</td>\n",
       "      <td>1</td>\n",
       "      <td>0</td>\n",
       "      <td>0</td>\n",
       "    </tr>\n",
       "    <tr>\n",
       "      <th>7</th>\n",
       "      <td>1</td>\n",
       "      <td>0</td>\n",
       "      <td>0</td>\n",
       "      <td>0</td>\n",
       "      <td>0</td>\n",
       "      <td>0</td>\n",
       "      <td>0</td>\n",
       "      <td>1</td>\n",
       "      <td>0</td>\n",
       "      <td>0</td>\n",
       "      <td>...</td>\n",
       "      <td>0</td>\n",
       "      <td>0</td>\n",
       "      <td>0</td>\n",
       "      <td>0</td>\n",
       "      <td>0</td>\n",
       "      <td>0</td>\n",
       "      <td>1</td>\n",
       "      <td>0</td>\n",
       "      <td>0</td>\n",
       "      <td>1</td>\n",
       "    </tr>\n",
       "    <tr>\n",
       "      <th>8</th>\n",
       "      <td>0</td>\n",
       "      <td>0</td>\n",
       "      <td>0</td>\n",
       "      <td>1</td>\n",
       "      <td>0</td>\n",
       "      <td>0</td>\n",
       "      <td>0</td>\n",
       "      <td>0</td>\n",
       "      <td>1</td>\n",
       "      <td>0</td>\n",
       "      <td>...</td>\n",
       "      <td>0</td>\n",
       "      <td>0</td>\n",
       "      <td>0</td>\n",
       "      <td>0</td>\n",
       "      <td>0</td>\n",
       "      <td>0</td>\n",
       "      <td>1</td>\n",
       "      <td>0</td>\n",
       "      <td>0</td>\n",
       "      <td>0</td>\n",
       "    </tr>\n",
       "    <tr>\n",
       "      <th>9</th>\n",
       "      <td>1</td>\n",
       "      <td>0</td>\n",
       "      <td>0</td>\n",
       "      <td>0</td>\n",
       "      <td>0</td>\n",
       "      <td>0</td>\n",
       "      <td>0</td>\n",
       "      <td>0</td>\n",
       "      <td>0</td>\n",
       "      <td>0</td>\n",
       "      <td>...</td>\n",
       "      <td>0</td>\n",
       "      <td>0</td>\n",
       "      <td>0</td>\n",
       "      <td>0</td>\n",
       "      <td>0</td>\n",
       "      <td>0</td>\n",
       "      <td>0</td>\n",
       "      <td>1</td>\n",
       "      <td>0</td>\n",
       "      <td>1</td>\n",
       "    </tr>\n",
       "  </tbody>\n",
       "</table>\n",
       "<p>10 rows × 36 columns</p>\n",
       "</div>"
      ],
      "text/plain": [
       "   Team = Pakistan  ﻿Team = Sri Lanka  ﻿Team = India  ﻿Team = Bangladesh  \\\n",
       "0                1                  0              0                   0   \n",
       "1                0                  1              0                   0   \n",
       "2                0                  0              1                   0   \n",
       "3                0                  1              0                   0   \n",
       "4                0                  0              1                   0   \n",
       "5                1                  0              0                   0   \n",
       "6                0                  1              0                   0   \n",
       "7                1                  0              0                   0   \n",
       "8                0                  0              0                   1   \n",
       "9                1                  0              0                   0   \n",
       "\n",
       "   ﻿Team = Hong Kong  ﻿Team = UAE  ﻿Team = Afghanistan  Opponent = Sri Lanka  \\\n",
       "0                  0            0                    0                     1   \n",
       "1                  0            0                    0                     0   \n",
       "2                  0            0                    0                     1   \n",
       "3                  0            0                    0                     0   \n",
       "4                  0            0                    0                     0   \n",
       "5                  0            0                    0                     0   \n",
       "6                  0            0                    0                     0   \n",
       "7                  0            0                    0                     1   \n",
       "8                  0            0                    0                     0   \n",
       "9                  0            0                    0                     0   \n",
       "\n",
       "   Opponent = Pakistan  Opponent = India  ...  Ground = Lahore  \\\n",
       "0                    0                 0  ...                0   \n",
       "1                    1                 0  ...                0   \n",
       "2                    0                 0  ...                0   \n",
       "3                    0                 1  ...                0   \n",
       "4                    1                 0  ...                0   \n",
       "5                    0                 1  ...                0   \n",
       "6                    1                 0  ...                0   \n",
       "7                    0                 0  ...                0   \n",
       "8                    1                 0  ...                0   \n",
       "9                    0                 0  ...                0   \n",
       "\n",
       "   Ground = Karachi  Ground = Mirpur  Ground = Fatullah  Ground = Dubai(DSC)  \\\n",
       "0                 0                0                  0                    0   \n",
       "1                 0                0                  0                    0   \n",
       "2                 0                0                  0                    0   \n",
       "3                 0                0                  0                    0   \n",
       "4                 0                0                  0                    0   \n",
       "5                 0                0                  0                    0   \n",
       "6                 0                0                  0                    0   \n",
       "7                 0                0                  0                    0   \n",
       "8                 0                0                  0                    0   \n",
       "9                 0                0                  0                    0   \n",
       "\n",
       "   Ground = Abu Dhabi  Toss = Lose  Toss = Win  Toss = win  Result  \n",
       "0                   0            1           0           0       0  \n",
       "1                   0            0           1           0       1  \n",
       "2                   0            0           1           0       1  \n",
       "3                   0            1           0           0       0  \n",
       "4                   0            0           1           0       1  \n",
       "5                   0            1           0           0       0  \n",
       "6                   0            0           1           0       0  \n",
       "7                   0            1           0           0       1  \n",
       "8                   0            1           0           0       0  \n",
       "9                   0            0           1           0       1  \n",
       "\n",
       "[10 rows x 36 columns]"
      ]
     },
     "execution_count": 2,
     "metadata": {},
     "output_type": "execute_result"
    }
   ],
   "source": [
    "data = pd.read_csv(\"asiacup2.csv\")\n",
    "data.head(10)"
   ]
  },
  {
   "cell_type": "code",
   "execution_count": 4,
   "id": "6b0b1164",
   "metadata": {},
   "outputs": [],
   "source": [
    "from sklearn.utils import shuffle\n",
    "from sklearn.datasets import make_blobs\n",
    "X_train, Y_train = make_blobs(n_samples=300, centers=2, n_features=2, cluster_std=6, random_state=11)"
   ]
  },
  {
   "cell_type": "code",
   "execution_count": 5,
   "id": "d813fca1",
   "metadata": {},
   "outputs": [
    {
     "name": "stderr",
     "output_type": "stream",
     "text": [
      "C:\\Users\\joshj\\AppData\\Local\\Programs\\Python\\Python310\\lib\\site-packages\\pandas\\plotting\\_matplotlib\\core.py:1114: UserWarning: No data for colormapping provided via 'c'. Parameters 'cmap' will be ignored\n",
      "  scatter = ax.scatter(\n"
     ]
    },
    {
     "data": {
      "image/png": "[encoded data removed]",
      "text/plain": [
       "<Figure size 576x576 with 1 Axes>"
      ]
     },
     "metadata": {
      "needs_background": "light"
     },
     "output_type": "display_data"
    }
   ],
   "source": [
    "from matplotlib import pyplot as plt\n",
    "from matplotlib.pyplot import figure\n",
    "from pandas import DataFrame \n",
    "\n",
    "df = DataFrame(dict(x=X_train[:,0], y=X_train[:,1], label=Y_train))\n",
    "colors = {0:'blue', 1:'orange'}\n",
    "fig, ax = plt.subplots(figsize=(8,8))\n",
    "grouped = df.groupby('label')\n",
    "for key, group in grouped:\n",
    "    group.plot(ax=ax, kind='scatter', x='x', y='y', label=key, color=colors[key])\n",
    "plt.xlabel('X_1')\n",
    "plt.ylabel('X_2')\n",
    "plt.show()"
   ]
  },
  {
   "cell_type": "code",
   "execution_count": 6,
   "id": "5e638827",
   "metadata": {},
   "outputs": [],
   "source": [
    "def normalize(X):\n",
    "    x1_min = min(X_train[:,0])\n",
    "    x1_max = max(X_train[:,0])\n",
    "    \n",
    "    f = lambda x: (x - x1_min)/(x1_max - x1_min)\n",
    "    X[:,0] = f(X[:,0])\n",
    "\n",
    "    x2_min = min(X_train[:,1])\n",
    "    x2_max = max(X_train[:,1])\n",
    "    \n",
    "    f = lambda x: (x - x2_min)/(x2_max - x2_min)\n",
    "    X[:,1] = f(X[:,1])\n",
    "    \n",
    "    return X"
   ]
  },
  {
   "cell_type": "code",
   "execution_count": 7,
   "id": "311d45e6",
   "metadata": {},
   "outputs": [
    {
     "name": "stdout",
     "output_type": "stream",
     "text": [
      "[[0.59987983 0.70438379]\n",
      " [0.22476575 0.2065585 ]\n",
      " [0.42582798 0.14400726]\n",
      " [0.60646637 0.58589566]\n",
      " [0.35477231 0.56762558]]\n"
     ]
    }
   ],
   "source": [
    "X = normalize(X_train)\n",
    "print(X[0:5])"
   ]
  },
  {
   "cell_type": "code",
   "execution_count": 8,
   "id": "fb361880",
   "metadata": {},
   "outputs": [],
   "source": [
    "#heart of knn"
   ]
  },
  {
   "cell_type": "code",
   "execution_count": 9,
   "id": "617d17e8",
   "metadata": {},
   "outputs": [],
   "source": [
    "def find_neighbors(k, X_tr, new_point):\n",
    "    neighbor_arr = []\n",
    "    for i in range(len(X_tr)):\n",
    "        dist = np.sqrt(sum(np.square(X_tr[i]-new_point)))\n",
    "        neighbor_arr.append([i, dist])\n",
    "    neighbor_arr = sorted(neighbor_arr, key = lambda x : x[1])\n",
    "    \n",
    "    return neighbor_arr[0:k]"
   ]
  },
  {
   "cell_type": "code",
   "execution_count": 10,
   "id": "4b5ae5ac",
   "metadata": {},
   "outputs": [],
   "source": [
    "#classification with knn"
   ]
  },
  {
   "cell_type": "code",
   "execution_count": 11,
   "id": "23c39620",
   "metadata": {},
   "outputs": [],
   "source": [
    "from collections import Counter\n",
    "def classifier(neighbor_arr):\n",
    "    class_arr = [Y_train[i[0]] for i in neighbor_arr]\n",
    "    return Counter(class_arr).most_common(1)[0][0]"
   ]
  },
  {
   "cell_type": "code",
   "execution_count": 12,
   "id": "22eb3421",
   "metadata": {},
   "outputs": [],
   "source": [
    "new_points = np.array([[-10, -10],\n",
    "                      [0, 10],\n",
    "                      [-15, 10],\n",
    "                      [5, -2]])\n",
    "\n",
    "new_points = normalize(new_points)"
   ]
  },
  {
   "cell_type": "code",
   "execution_count": 13,
   "id": "abc58e0f",
   "metadata": {},
   "outputs": [
    {
     "data": {
      "text/plain": [
       "1"
      ]
     },
     "execution_count": 13,
     "metadata": {},
     "output_type": "execute_result"
    }
   ],
   "source": [
    "knn = find_neighbors(4, X, new_points[1])\n",
    "classifier(knn)"
   ]
  },
  {
   "cell_type": "code",
   "execution_count": 16,
   "id": "e2bf7aa4",
   "metadata": {},
   "outputs": [],
   "source": [
    "from sklearn.datasets import make_regression\n",
    "X_train, Y_train = make_regression(n_samples=300, n_features=2, n_informative=2, noise=5, bias=30, random_state=200)"
   ]
  },
  {
   "cell_type": "code",
   "execution_count": 17,
   "id": "1ebedf5b",
   "metadata": {},
   "outputs": [],
   "source": [
    "#plot the data"
   ]
  },
  {
   "cell_type": "code",
   "execution_count": 18,
   "id": "45da032f",
   "metadata": {},
   "outputs": [
    {
     "data": {
      "image/png": "[encoded data removed]",
      "text/plain": [
       "<Figure size 576x576 with 1 Axes>"
      ]
     },
     "metadata": {
      "needs_background": "light"
     },
     "output_type": "display_data"
    }
   ],
   "source": [
    "from mpl_toolkits.mplot3d import Axes3D\n",
    "from matplotlib import pyplot as plt\n",
    "fig = plt.figure(figsize=(8, 8))\n",
    "ax = fig.add_subplot(111, projection='3d')\n",
    "ax.scatter(X_train[:,0],X_train[:,1],Y_train, c = \"red\",alpha=.5, marker = 'o')\n",
    "ax.set_xlabel('X_1')\n",
    "ax.set_ylabel('X_2')\n",
    "ax.set_zlabel('Y')\n",
    "plt.show()"
   ]
  },
  {
   "cell_type": "code",
   "execution_count": 19,
   "id": "0390fa33",
   "metadata": {},
   "outputs": [],
   "source": [
    "def regressor(neighbor_arr):\n",
    "    y_arr = [Y_train[i[0]] for i in neighbor_arr]\n",
    "    avg_y = np.mean(y_arr)\n",
    "    return avg_y"
   ]
  },
  {
   "cell_type": "code",
   "execution_count": 20,
   "id": "5e5652e5",
   "metadata": {},
   "outputs": [
    {
     "data": {
      "text/plain": [
       "214.237541575631"
      ]
     },
     "execution_count": 20,
     "metadata": {},
     "output_type": "execute_result"
    }
   ],
   "source": [
    "new_points = np.array([[-1, 1],\n",
    "                      [0, 2],\n",
    "                      [-3, -2],\n",
    "                      [3, -3]])\n",
    "\n",
    "knn = find_neighbors(3, X_train, new_points[1])\n",
    "regressor(knn)"
   ]
  },
  {
   "cell_type": "code",
   "execution_count": null,
   "id": "3c0663fd",
   "metadata": {},
   "outputs": [],
   "source": []
  }
 ],
 "metadata": {
  "kernelspec": {
   "display_name": "Python 3 (ipykernel)",
   "language": "python",
   "name": "python3"
  },
  "language_info": {
   "codemirror_mode": {
    "name": "ipython",
    "version": 3
   },
   "file_extension": ".py",
   "mimetype": "text/x-python",
   "name": "python",
   "nbconvert_exporter": "python",
   "pygments_lexer": "ipython3",
   "version": "3.10.4"
  }
 },
 "nbformat": 4,
 "nbformat_minor": 5
}
